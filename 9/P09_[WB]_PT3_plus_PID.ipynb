{
 "cells": [
  {
   "cell_type": "code",
   "execution_count": 1,
   "metadata": {},
   "outputs": [],
   "source": [
    "import numpy as np\n",
    "import matplotlib.pyplot as plt\n",
    "import control"
   ]
  },
  {
   "cell_type": "markdown",
   "metadata": {},
   "source": [
    "### PT3 process with PID controller\n",
    "\n",
    "The process:\n",
    "\n",
    "$$ P(s)=\\frac{k}{(1+T_1s)(1+T_2s)(1+T_3s)} $$\n",
    "\n",
    "the controller\n",
    "\n",
    "$$ C(s) = Kp \\left(1 + \\frac{1}{T_i s} + T_D s \\right) $$"
   ]
  },
  {
   "cell_type": "code",
   "execution_count": 2,
   "metadata": {},
   "outputs": [],
   "source": [
    "# defining the parameters and transfer functions\n",
    "k = 4\n",
    "T1 = 1\n",
    "T2 = 2\n",
    "T3 = 3\n",
    "\n",
    "# parameters of the controller\n",
    "\n",
    "# definition of the systems\n"
   ]
  },
  {
   "cell_type": "markdown",
   "metadata": {},
   "source": [
    "**Q1.** Create a control loop using a PID controller. Find the PID parameters using the Ziegler-Nichols method. Try to find a set of parameters resulting in minimal overshot and short settling time. (Rise time < 3 seconds, Settling time < 10 secods, Overshoot < 10 %)"
   ]
  },
  {
   "cell_type": "markdown",
   "metadata": {},
   "source": [
    "**Q2.** Plot the Bode-plot of the open loop, and calculate the gain and phase margins of the tuned system. Plot the step response of the tuned system."
   ]
  },
  {
   "cell_type": "code",
   "execution_count": null,
   "metadata": {},
   "outputs": [],
   "source": [
    "#"
   ]
  }
 ],
 "metadata": {
  "kernelspec": {
   "display_name": "Python 3",
   "language": "python",
   "name": "python3"
  },
  "language_info": {
   "codemirror_mode": {
    "name": "ipython",
    "version": 3
   },
   "file_extension": ".py",
   "mimetype": "text/x-python",
   "name": "python",
   "nbconvert_exporter": "python",
   "pygments_lexer": "ipython3",
   "version": "3.6.10"
  }
 },
 "nbformat": 4,
 "nbformat_minor": 4
}
