{
 "cells": [
  {
   "cell_type": "code",
   "execution_count": 1,
   "metadata": {},
   "outputs": [],
   "source": [
    "import numpy as np\n",
    "import matplotlib.pyplot as plt\n",
    "import control"
   ]
  },
  {
   "cell_type": "markdown",
   "metadata": {},
   "source": [
    "### Midterm Exam 2\n",
    "\n",
    "(*You have* **90** *minutes to finish your work and upload your notebook!* **Identical solutions will be rejected with a zero score!**)"
   ]
  },
  {
   "cell_type": "markdown",
   "metadata": {},
   "source": [
    "**Give your Neptun ID below!**"
   ]
  },
  {
   "cell_type": "code",
   "execution_count": 2,
   "metadata": {},
   "outputs": [],
   "source": [
    "# Replace the string below with your Neptun ID!\n",
    "neptun_ID = \"ABCDEF\"  # <--- Neptun ID"
   ]
  },
  {
   "cell_type": "markdown",
   "metadata": {},
   "source": [
    "**Q1.** Tuning a controller for a process given by its transfer function.\n",
    "\n",
    "The transfer function of the process is:\n",
    "\n",
    "$$ P(s) = \\frac{k}{(1+T_1 s)(1+T_2 s)(1+T_3 s)} $$\n",
    "\n",
    "with parameters: $k, T_1, T_2, T_3$."
   ]
  },
  {
   "cell_type": "code",
   "execution_count": 3,
   "metadata": {},
   "outputs": [
    {
     "data": {
      "text/plain": [
       "(0.7491660443342217, 1.2373632735931612, 1.227119847361793, 1.0747649052073995)"
      ]
     },
     "execution_count": 3,
     "metadata": {},
     "output_type": "execute_result"
    }
   ],
   "source": [
    "# the parameters\n",
    "# DO NOT MODIFY THIS PART!!!\n",
    "rseed = int(neptun_ID, base=36)\n",
    "np.random.seed(rseed)\n",
    "k = np.random.uniform(0.7, 0.9)\n",
    "T1 ,T2, T3 = np.random.uniform(0.8, 1.5, 3)\n",
    "k, T1, T2, T3"
   ]
  },
  {
   "cell_type": "markdown",
   "metadata": {},
   "source": [
    "**Q1. (a.)** Approximate the process with a first order + time delay (FOPTD) process!\n",
    "\n",
    "The transfer function of FOPDT process is:\n",
    "\n",
    "$$ P(s) = \\frac{k}{1+T_1 s}e^{-\\tau s} $$\n",
    "\n",
    "Give the parameters ($k,T_1, \\tau$) of the FOPTD process!"
   ]
  },
  {
   "cell_type": "code",
   "execution_count": 4,
   "metadata": {},
   "outputs": [],
   "source": [
    "#"
   ]
  },
  {
   "attachments": {
    "Simple_control_loop.png": {
     "image/png": "[encoded data removed]"
    }
   },
   "cell_type": "markdown",
   "metadata": {},
   "source": [
    "**Q1. (b.)** Given the control loop structure below:\n",
    "\n",
    "![Simple_control_loop.png](attachment:Simple_control_loop.png)\n",
    "\n",
    "Tune a PI and a PID controller using the lambda-tuning method! Compare the behavior of the two solutions in time- and frequency domain!"
   ]
  },
  {
   "cell_type": "code",
   "execution_count": 5,
   "metadata": {},
   "outputs": [],
   "source": [
    "#"
   ]
  },
  {
   "attachments": {
    "Simple_control_loop.png": {
     "image/png": "[encoded data removed]"
    }
   },
   "cell_type": "markdown",
   "metadata": {},
   "source": [
    "**Q2.** Selecting and tuning a controller\n",
    "\n",
    "We have the control loop structure below:\n",
    "\n",
    "![Simple_control_loop.png](attachment:Simple_control_loop.png)\n",
    "\n",
    "Given the following process:\n",
    "\n",
    "$$ P(s) = \\frac{k}{s(\\tau s + 1)} $$\n",
    "\n",
    "with parameters $k$ and $\\tau$."
   ]
  },
  {
   "cell_type": "code",
   "execution_count": 6,
   "metadata": {},
   "outputs": [
    {
     "data": {
      "text/plain": [
       "(1.6237041958758038, 0.07362722504116694)"
      ]
     },
     "execution_count": 6,
     "metadata": {},
     "output_type": "execute_result"
    }
   ],
   "source": [
    "# the parameters\n",
    "# DO NOT MODIFY THIS PART!!!\n",
    "np.random.seed(rseed+1)\n",
    "k = np.random.uniform(0.5, 2)\n",
    "tau = np.random.uniform(0.01, 0.1)\n",
    "k, tau"
   ]
  },
  {
   "cell_type": "markdown",
   "metadata": {},
   "source": [
    "**Q2. (a.)** Investigate the behavior of the process in frequency domain (Bode-, Nyquist-plot)."
   ]
  },
  {
   "cell_type": "code",
   "execution_count": 7,
   "metadata": {},
   "outputs": [],
   "source": [
    "#"
   ]
  },
  {
   "cell_type": "markdown",
   "metadata": {},
   "source": [
    "**Q2 (b.)** Assuming we have a P-controller, what is the steady-state output of the control system for unit step reference input?"
   ]
  },
  {
   "cell_type": "code",
   "execution_count": 8,
   "metadata": {},
   "outputs": [],
   "source": [
    "#"
   ]
  },
  {
   "cell_type": "markdown",
   "metadata": {},
   "source": [
    "**Q2. (c.)** Choose a controller for the control loop, the goal is reference tracking. Plot the step-response of the closed loop. **Requirements**: Zero steady-state error, settling time < 1 sec, max. overshot < 5%."
   ]
  },
  {
   "cell_type": "code",
   "execution_count": 9,
   "metadata": {},
   "outputs": [],
   "source": [
    "#"
   ]
  },
  {
   "cell_type": "markdown",
   "metadata": {},
   "source": [
    "**Q2. (d.)** Investigate the stability properties of the control system (margins). Give a reasoning of your choice of controller and parameters. (Why did you choose that specific controller? How did you find the appropriate parameters for the controller?)"
   ]
  },
  {
   "cell_type": "code",
   "execution_count": 10,
   "metadata": {},
   "outputs": [],
   "source": [
    "#"
   ]
  }
 ],
 "metadata": {
  "kernelspec": {
   "display_name": "Python 3",
   "language": "python",
   "name": "python3"
  },
  "language_info": {
   "codemirror_mode": {
    "name": "ipython",
    "version": 3
   },
   "file_extension": ".py",
   "mimetype": "text/x-python",
   "name": "python",
   "nbconvert_exporter": "python",
   "pygments_lexer": "ipython3",
   "version": "3.6.10"
  }
 },
 "nbformat": 4,
 "nbformat_minor": 4
}
