{
 "cells": [
  {
   "cell_type": "code",
   "execution_count": 1,
   "metadata": {},
   "outputs": [],
   "source": [
    "import numpy as np\n",
    "import matplotlib.pyplot as plt"
   ]
  },
  {
   "cell_type": "markdown",
   "metadata": {},
   "source": [
    "### System Theory 2. Midterm Exam 1 (Retake)\n",
    "\n",
    "**Please work individually! Identical solutions will be rejected with a zero score!**"
   ]
  },
  {
   "cell_type": "markdown",
   "metadata": {},
   "source": [
    "**Neptun ID:**"
   ]
  },
  {
   "cell_type": "code",
   "execution_count": 2,
   "metadata": {},
   "outputs": [],
   "source": [
    "# Give your Neptun ID below:\n",
    "neptun_ID = \"ABCDEF\"  # <--- Neptun ID"
   ]
  },
  {
   "attachments": {
    "Simple_control_loop.png": {
     "image/png": "[encoded data removed]"
    }
   },
   "cell_type": "markdown",
   "metadata": {},
   "source": [
    "**Q1.** Given the closed loop below:\n",
    "\n",
    "![Simple_control_loop.png](attachment:Simple_control_loop.png)"
   ]
  },
  {
   "cell_type": "markdown",
   "metadata": {},
   "source": [
    "The transfer function of the controller is:\n",
    "\n",
    "$$ C(s) = K_p $$\n",
    "\n",
    "The transfer function of the process is:\n",
    "\n",
    "$$ P(s) = \\frac{k}{T^2 s^2+2\\xi T s+1}$$"
   ]
  },
  {
   "cell_type": "code",
   "execution_count": 3,
   "metadata": {},
   "outputs": [
    {
     "data": {
      "text/plain": [
       "(0.8687453325066629, 3.499218706246635, 0.8881369684134777, 5.140170345227423)"
      ]
     },
     "execution_count": 3,
     "metadata": {},
     "output_type": "execute_result"
    }
   ],
   "source": [
    "# the parameters\n",
    "# PLEASE, DO NOT MODIFY THIS PART!\n",
    "rseed = int(neptun_ID, base=36)\n",
    "np.random.seed(rseed)\n",
    "k = np.random.uniform(0.5, 2)\n",
    "T = np.random.uniform(1, 5)\n",
    "xi = np.random.uniform(0.4, 1.2)\n",
    "Kp = np.random.uniform(2, 10)\n",
    "k, T, xi, Kp"
   ]
  },
  {
   "cell_type": "markdown",
   "metadata": {},
   "source": [
    "**Q1.a** Please investigate the open-loop and the closed loop in frequency domain (Bode-, Nyquist-plots)! What characteristic features can you see?"
   ]
  },
  {
   "cell_type": "code",
   "execution_count": 4,
   "metadata": {},
   "outputs": [],
   "source": [
    "#"
   ]
  },
  {
   "cell_type": "markdown",
   "metadata": {},
   "source": [
    "**Q1.b** What is the steady state response of the closed loop for unit step reference input? ($r(t) = \\varepsilon(t)$)"
   ]
  },
  {
   "cell_type": "code",
   "execution_count": 5,
   "metadata": {},
   "outputs": [],
   "source": [
    "#"
   ]
  },
  {
   "cell_type": "markdown",
   "metadata": {},
   "source": [
    "**Q1.c** Calculate the poles of the closed loop! What can we say about the behavior of the controlled variable $y(t)$, based on the poles, if we assume unit step reference input?"
   ]
  },
  {
   "cell_type": "code",
   "execution_count": 6,
   "metadata": {},
   "outputs": [],
   "source": [
    "#"
   ]
  },
  {
   "cell_type": "markdown",
   "metadata": {},
   "source": [
    "**Q2.** Given a temperatue control system, in the form of an on/off control with hysteresis. The transfer function of the process is $P(s)=\\frac{k}{1+Ts}e^{-s\\tau}$, the parameters are: $k[^{\\circ} C/\\%]$, $T[tu]$, $\\tau[tu]$ (The $[tu]$ denotes arbitrary *t*ime *u*nit)."
   ]
  },
  {
   "cell_type": "code",
   "execution_count": 7,
   "metadata": {},
   "outputs": [
    {
     "data": {
      "text/plain": [
       "(0.8498272261167739, 12.06969167124077, 1.0218261696438795)"
      ]
     },
     "execution_count": 7,
     "metadata": {},
     "output_type": "execute_result"
    }
   ],
   "source": [
    "# the parameters\n",
    "# PLEASE, DO NOT MODIFY THIS PART!\n",
    "np.random.seed(rseed+1)\n",
    "k = np.random.uniform(0.7, 0.9)\n",
    "T = np.random.uniform(5, 15)\n",
    "tau = np.random.uniform(1, 2)\n",
    "k, T, tau"
   ]
  },
  {
   "cell_type": "markdown",
   "metadata": {},
   "source": [
    "**Q2.a** Given, that the reference temperature is $50 ^{\\circ} C$, the width of the hysteresis band is $h=2^{\\circ} C$, and the on/off states of the controller correspond to $u=100\\%$/$u=0\\%$ respectively, calculate the minimum temperature, the cycle time, and the average temperature!"
   ]
  },
  {
   "cell_type": "code",
   "execution_count": 8,
   "metadata": {},
   "outputs": [],
   "source": [
    "#"
   ]
  },
  {
   "cell_type": "markdown",
   "metadata": {},
   "source": [
    "**Q3.** Given the step response of a process below:"
   ]
  },
  {
   "cell_type": "code",
   "execution_count": 9,
   "metadata": {},
   "outputs": [],
   "source": [
    "# the parameters\n",
    "# PLEASE, DO NOT MODIFY THIS PART!\n",
    "np.random.seed(rseed+2)\n",
    "k = np.random.uniform(0.09, 0.12)\n",
    "p1,p2, p3 = -np.random.uniform(0.9, 1.2, 3)\n",
    "t = np.linspace(0,10,1000)\n",
    "vt = np.cumsum(k*((p1-p2)*np.exp(p3*t)+(p2-p3)*np.exp(p1*t)+(p3-p1)*np.exp(p2*t))/(p1-p2)/(p1-p3)/(p2-p3)) + np.random.normal(0,0.1,len(t))"
   ]
  },
  {
   "cell_type": "code",
   "execution_count": 10,
   "metadata": {},
   "outputs": [
    {
     "data": {
      "image/png": "[encoded data removed]",
      "text/plain": [
       "<Figure size 576x432 with 1 Axes>"
      ]
     },
     "metadata": {
      "needs_background": "light"
     },
     "output_type": "display_data"
    }
   ],
   "source": [
    "# The measured step response:\n",
    "plt.figure(figsize=(8,6))\n",
    "plt.plot(t,vt), plt.grid(True);"
   ]
  },
  {
   "cell_type": "markdown",
   "metadata": {},
   "source": [
    "**Q3.a** Appriximate the process with a first order plus time delay (FOPTD) system ($G(s)=\\frac{k}{1+T_1s}e^{-\\tau s}$), give the parameters $k,T_1,$ and $\\tau$ of the approximating process!"
   ]
  },
  {
   "cell_type": "code",
   "execution_count": 11,
   "metadata": {},
   "outputs": [],
   "source": [
    "#"
   ]
  },
  {
   "cell_type": "markdown",
   "metadata": {},
   "source": [
    "**Q4.** Given the closed loop defined in Q1. The controller is a P controller, the transfer function of the controller is:\n",
    "\n",
    "$$ C(s) = K_p $$\n",
    "\n",
    "The transfer function of the process in this case is:\n",
    "\n",
    "$$ P(s) = \\frac{k}{(1+Ts)^3} $$"
   ]
  },
  {
   "cell_type": "code",
   "execution_count": 12,
   "metadata": {},
   "outputs": [
    {
     "data": {
      "text/plain": [
       "(0.8035825885024367, 1.4207327587792213)"
      ]
     },
     "execution_count": 12,
     "metadata": {},
     "output_type": "execute_result"
    }
   ],
   "source": [
    "# the parameters\n",
    "# PLEASE, DO NOT MODIFY THIS PART!\n",
    "np.random.seed(rseed+3)\n",
    "k = np.random.uniform(0.7, 0.9)\n",
    "T = np.random.uniform(0.8, 1.5)\n",
    "k, T"
   ]
  },
  {
   "cell_type": "markdown",
   "metadata": {},
   "source": [
    "**Q4.a** Plot the Bode-plot of the process!"
   ]
  },
  {
   "cell_type": "code",
   "execution_count": 13,
   "metadata": {},
   "outputs": [],
   "source": [
    "#"
   ]
  },
  {
   "cell_type": "markdown",
   "metadata": {},
   "source": [
    "**Q4.b** Plot the Bode-plot of the open-loop, assuming $K_p=1$, and estimate the gain margin!"
   ]
  },
  {
   "cell_type": "code",
   "execution_count": 14,
   "metadata": {},
   "outputs": [],
   "source": [
    "#"
   ]
  },
  {
   "cell_type": "markdown",
   "metadata": {},
   "source": [
    "**Q4.c** Which values of $Kp$ ensure a gain margin greater than $4$dB?"
   ]
  },
  {
   "cell_type": "code",
   "execution_count": 15,
   "metadata": {},
   "outputs": [],
   "source": [
    "#"
   ]
  }
 ],
 "metadata": {
  "kernelspec": {
   "display_name": "Python 3",
   "language": "python",
   "name": "python3"
  },
  "language_info": {
   "codemirror_mode": {
    "name": "ipython",
    "version": 3
   },
   "file_extension": ".py",
   "mimetype": "text/x-python",
   "name": "python",
   "nbconvert_exporter": "python",
   "pygments_lexer": "ipython3",
   "version": "3.6.10"
  }
 },
 "nbformat": 4,
 "nbformat_minor": 4
}
