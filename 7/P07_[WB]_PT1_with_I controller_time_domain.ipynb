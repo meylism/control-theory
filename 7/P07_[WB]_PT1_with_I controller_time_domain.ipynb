{
 "cells": [
  {
   "cell_type": "code",
   "execution_count": 22,
   "metadata": {},
   "outputs": [],
   "source": [
    "import numpy as np\n",
    "import matplotlib.pyplot as plt\n",
    "from scipy.integrate import odeint"
   ]
  },
  {
   "cell_type": "markdown",
   "metadata": {},
   "source": [
    "## PT1 process with I controller in time domain\n",
    "\n",
    "The ode of the closed loop system is:\n",
    "\n",
    "$$ \\frac{T_I T_1}{k} y''(t) + \\frac{T_I}{k} y'(t) + y(t) = r(t) $$\n",
    "\n",
    "in state space representation, with $x_1(t) = y(t)$ and $x_2(t)=y'(t)$\n",
    "\n",
    "$$ x_1'(t) = x_2(t) $$\n",
    "$$ x_2'(t) = -\\frac{k}{T_I T_1} x_1(t) -\\frac{1}{T_1} x_2(t) + \\frac{k}{T_I T_1}r(t) $$"
   ]
  },
  {
   "cell_type": "code",
   "execution_count": 23,
   "metadata": {},
   "outputs": [],
   "source": [
    "def epsilon(t):\n",
    "    return (t>0)*1"
   ]
  },
  {
   "cell_type": "code",
   "execution_count": 24,
   "metadata": {},
   "outputs": [],
   "source": [
    "def sys_fun(x,t,k,T1,TI):\n",
    "    r = epsilon(t)\n",
    "    dxdt = [x[1], -k/(TI*T1) * x[0] - 1/T1 * x[1] + k/(TI*T1)*r]\n",
    "    return dxdt"
   ]
  },
  {
   "cell_type": "code",
   "execution_count": 25,
   "metadata": {},
   "outputs": [],
   "source": [
    "# solution\n",
    "k = 1\n",
    "T1 = 1/10\n",
    "TI = 2\n",
    "\n",
    "x0 = [0, 0]\n",
    "t = np.linspace(-1,10,1000)\n",
    "x = odeint(sys_fun, x0, t, args=(k,T1,TI))"
   ]
  },
  {
   "cell_type": "code",
   "execution_count": 26,
   "metadata": {},
   "outputs": [
    {
     "data": {
      "image/png": "[encoded data removed]",
      "text/plain": [
       "<Figure size 576x432 with 1 Axes>"
      ]
     },
     "metadata": {
      "needs_background": "light"
     },
     "output_type": "display_data"
    }
   ],
   "source": [
    "# plot the solution\n",
    "plt.figure(figsize=(8,6))\n",
    "plt.plot(t, x[:,0]), plt.grid(True)\n",
    "plt.xlabel('$t$'), plt.ylabel('$y(t)$');"
   ]
  },
  {
   "cell_type": "markdown",
   "metadata": {},
   "source": [
    "**Q1.** What happens when we increase $T_I$?"
   ]
  },
  {
   "cell_type": "code",
   "execution_count": 27,
   "metadata": {},
   "outputs": [],
   "source": [
    "#"
   ]
  },
  {
   "cell_type": "markdown",
   "metadata": {},
   "source": [
    "**Q2.** Calculate the poles of the system, and investigate together with the step response for different values of $T_I$!"
   ]
  },
  {
   "cell_type": "code",
   "execution_count": 28,
   "metadata": {},
   "outputs": [],
   "source": [
    "#"
   ]
  }
 ],
 "metadata": {
  "kernelspec": {
   "display_name": "Python 3",
   "language": "python",
   "name": "python3"
  },
  "language_info": {
   "codemirror_mode": {
    "name": "ipython",
    "version": 3
   },
   "file_extension": ".py",
   "mimetype": "text/x-python",
   "name": "python",
   "nbconvert_exporter": "python",
   "pygments_lexer": "ipython3",
   "version": "3.6.10"
  }
 },
 "nbformat": 4,
 "nbformat_minor": 4
}
